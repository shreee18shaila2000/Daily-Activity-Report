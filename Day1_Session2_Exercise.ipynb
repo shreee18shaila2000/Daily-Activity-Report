{
  "nbformat": 4,
  "nbformat_minor": 0,
  "metadata": {
    "colab": {
      "name": "Untitled19.ipynb",
      "provenance": [],
      "authorship_tag": "ABX9TyPhX1gTHAnbELGafiVrrUGX",
      "include_colab_link": true
    },
    "kernelspec": {
      "name": "python3",
      "display_name": "Python 3"
    }
  },
  "cells": [
    {
      "cell_type": "markdown",
      "metadata": {
        "id": "view-in-github",
        "colab_type": "text"
      },
      "source": [
        "<a href=\"https://colab.research.google.com/github/shreee18shaila2000/Daily-Activity-Report/blob/master/Day1_Session2_Exercise.ipynb\" target=\"_parent\"><img src=\"https://colab.research.google.com/assets/colab-badge.svg\" alt=\"Open In Colab\"/></a>"
      ]
    },
    {
      "cell_type": "code",
      "metadata": {
        "id": "Ry4FPg4NgXIQ",
        "colab_type": "code",
        "colab": {}
      },
      "source": [
        ""
      ],
      "execution_count": null,
      "outputs": []
    },
    {
      "cell_type": "markdown",
      "metadata": {
        "id": "yfEdPt8ygfZl",
        "colab_type": "text"
      },
      "source": [
        "1 Write a program to print the triangle i/p 4\n",
        "\n",
        "1 2 3 3 4 5 4 5 6 7"
      ]
    },
    {
      "cell_type": "code",
      "metadata": {
        "id": "_nwXZRj2ghnP",
        "colab_type": "code",
        "colab": {
          "base_uri": "https://localhost:8080/",
          "height": 101
        },
        "outputId": "358d5399-c19c-48a1-ad75-c97cf3b1f013"
      },
      "source": [
        "n=4;\n",
        "for i in range(5):\n",
        "  k=i\n",
        "  for j in range(k):\n",
        "      print (k, end=\" \")\n",
        "      k=k+1\n",
        "  print('')"
      ],
      "execution_count": 1,
      "outputs": [
        {
          "output_type": "stream",
          "text": [
            "\n",
            "1 \n",
            "2 3 \n",
            "3 4 5 \n",
            "4 5 6 7 \n"
          ],
          "name": "stdout"
        }
      ]
    },
    {
      "cell_type": "markdown",
      "metadata": {
        "id": "4JjrXTPwgsFd",
        "colab_type": "text"
      },
      "source": [
        "2)Program to print the pattern *\n",
        "\n",
        "*"
      ]
    },
    {
      "cell_type": "markdown",
      "metadata": {
        "id": "zNCR5u3EgeX8",
        "colab_type": "text"
      },
      "source": [
        ""
      ]
    },
    {
      "cell_type": "code",
      "metadata": {
        "id": "hwjdDs1OgzF8",
        "colab_type": "code",
        "colab": {
          "base_uri": "https://localhost:8080/",
          "height": 101
        },
        "outputId": "89135ef2-b4cd-45d9-ed83-4c62f0c4dded"
      },
      "source": [
        "n=5;\n",
        "for i in range(n):\n",
        "    for j in range(i):\n",
        "        print ('* ', end=\"\")\n",
        "    print('')"
      ],
      "execution_count": 2,
      "outputs": [
        {
          "output_type": "stream",
          "text": [
            "\n",
            "* \n",
            "* * \n",
            "* * * \n",
            "* * * * \n"
          ],
          "name": "stdout"
        }
      ]
    },
    {
      "cell_type": "markdown",
      "metadata": {
        "id": "p8zKRDhog5aU",
        "colab_type": "text"
      },
      "source": [
        "3)Program to print the pattern 5 4 5 3 4 5 2 3 4 5 1 2 3 4 5"
      ]
    },
    {
      "cell_type": "code",
      "metadata": {
        "id": "zL9hkNZ3g9yP",
        "colab_type": "code",
        "colab": {
          "base_uri": "https://localhost:8080/",
          "height": 101
        },
        "outputId": "fa1432ec-0fdc-41e2-9034-2744c388a096"
      },
      "source": [
        "n=5;\n",
        "for i in range(n,0,-1):\n",
        "  for j in range(i,n+1):\n",
        "      print (j, end=' ')\n",
        "  print('')"
      ],
      "execution_count": 3,
      "outputs": [
        {
          "output_type": "stream",
          "text": [
            "5 \n",
            "4 5 \n",
            "3 4 5 \n",
            "2 3 4 5 \n",
            "1 2 3 4 5 \n"
          ],
          "name": "stdout"
        }
      ]
    },
    {
      "cell_type": "markdown",
      "metadata": {
        "id": "1R-WgwnUhDgi",
        "colab_type": "text"
      },
      "source": [
        "\n",
        "4)Program to print the following pattern 5 4 3 2 1 4 3 2 1 3 2 1 2 1 1"
      ]
    },
    {
      "cell_type": "code",
      "metadata": {
        "id": "WwrHwBE3hKtO",
        "colab_type": "code",
        "colab": {
          "base_uri": "https://localhost:8080/",
          "height": 118
        },
        "outputId": "73201054-183a-457c-8bbd-67f755143a9b"
      },
      "source": [
        "n=5\n",
        "for i in range(0,n+1):\n",
        "  for j in range(n-i,0,-1):\n",
        "      print(j,end=\" \")\n",
        "  print()"
      ],
      "execution_count": 4,
      "outputs": [
        {
          "output_type": "stream",
          "text": [
            "5 4 3 2 1 \n",
            "4 3 2 1 \n",
            "3 2 1 \n",
            "2 1 \n",
            "1 \n",
            "\n"
          ],
          "name": "stdout"
        }
      ]
    },
    {
      "cell_type": "markdown",
      "metadata": {
        "id": "zr3UntF3hSjw",
        "colab_type": "text"
      },
      "source": [
        "5)Python program to print the following pattern\n",
        "\n",
        "1 2 3 4 2 3 4 3 4 4 3 4 2 3 4 1 2 3 4"
      ]
    },
    {
      "cell_type": "code",
      "metadata": {
        "id": "Mr8VuNg3hWmE",
        "colab_type": "code",
        "colab": {
          "base_uri": "https://localhost:8080/",
          "height": 151
        },
        "outputId": "58f867d9-8dbe-4e84-bc7c-0da55a9f4c10"
      },
      "source": [
        "n=4\n",
        "for i in range(0,n+1,1):\n",
        "  for j in range(i+1,n+1,1):\n",
        "    print(j,end=' ')\n",
        "  print()\n",
        "for i in range(4,n-3,-1):\n",
        "  for j in range(i-1,n+1,1):\n",
        "    print(j,end=' ')\n",
        "  print()"
      ],
      "execution_count": 5,
      "outputs": [
        {
          "output_type": "stream",
          "text": [
            "1 2 3 4 \n",
            "2 3 4 \n",
            "3 4 \n",
            "4 \n",
            "\n",
            "3 4 \n",
            "2 3 4 \n",
            "1 2 3 4 \n"
          ],
          "name": "stdout"
        }
      ]
    },
    {
      "cell_type": "markdown",
      "metadata": {
        "id": "MUravr8shwfa",
        "colab_type": "text"
      },
      "source": [
        "6)Find the length of the string without using len function"
      ]
    },
    {
      "cell_type": "code",
      "metadata": {
        "id": "jtzHf1NAhx0C",
        "colab_type": "code",
        "colab": {
          "base_uri": "https://localhost:8080/",
          "height": 50
        },
        "outputId": "7508a590-0030-4081-bbe7-b9672907d67f"
      },
      "source": [
        "str = input(\"Enter a string: \")\n",
        "counter = 0\n",
        "for s in str:\n",
        "      counter = counter+1\n",
        "print(\"Length of the input string is:\", counter)"
      ],
      "execution_count": 6,
      "outputs": [
        {
          "output_type": "stream",
          "text": [
            "Enter a string: hi\n",
            "Length of the input string is: 2\n"
          ],
          "name": "stdout"
        }
      ]
    },
    {
      "cell_type": "markdown",
      "metadata": {
        "id": "eit9VyRPh_p2",
        "colab_type": "text"
      },
      "source": [
        "7 Find the no of words and characters in a string"
      ]
    },
    {
      "cell_type": "code",
      "metadata": {
        "id": "j_4jLY8IiKcI",
        "colab_type": "code",
        "colab": {
          "base_uri": "https://localhost:8080/",
          "height": 101
        },
        "outputId": "679c9a09-e569-4df9-ee99-f3d9888954d9"
      },
      "source": [
        "string=input(\"Enter string:\")\n",
        "char=0\n",
        "word=1\n",
        "for i in string:\n",
        "      char=char+1\n",
        "      if(i==' '):\n",
        "            word=word+1\n",
        "print(\"Number of words in the string:\")\n",
        "print(word)\n",
        "print(\"Number of characters in the string:\")\n",
        "print(char)"
      ],
      "execution_count": 7,
      "outputs": [
        {
          "output_type": "stream",
          "text": [
            "Enter string:hi\n",
            "Number of words in the string:\n",
            "1\n",
            "Number of characters in the string:\n",
            "2\n"
          ],
          "name": "stdout"
        }
      ]
    },
    {
      "cell_type": "code",
      "metadata": {
        "id": "e6E22JK_ifln",
        "colab_type": "code",
        "colab": {}
      },
      "source": [
        ""
      ],
      "execution_count": null,
      "outputs": []
    },
    {
      "cell_type": "markdown",
      "metadata": {
        "id": "pJ0AuMA0ihDU",
        "colab_type": "text"
      },
      "source": [
        "8 Find the no of occurrences of a word in a string"
      ]
    },
    {
      "cell_type": "code",
      "metadata": {
        "id": "yUjdRVKkii2G",
        "colab_type": "code",
        "colab": {}
      },
      "source": [
        "def countOccurences(str, word): \n",
        "    a = str.split(\" \") \n",
        "    count = 0\n",
        "    for i in range(0, len(a)):  \n",
        "        if (word == a[i]): \n",
        "           count = count + 1\n",
        "             \n",
        "    return count        \n",
        "str =input(\"Enter the String\")\n",
        "word =input(\"Enter the word\")\n",
        "print(countOccurences(str, word))"
      ],
      "execution_count": null,
      "outputs": []
    }
  ]
}